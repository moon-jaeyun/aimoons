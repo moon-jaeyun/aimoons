{
 "cells": [
  {
   "cell_type": "markdown",
   "metadata": {},
   "source": [
    "#  프로젝트 (1) moviepy로 비디오 처리하기"
   ]
  },
  {
   "cell_type": "code",
   "execution_count": 1,
   "metadata": {},
   "outputs": [],
   "source": [
    "from moviepy.editor import VideoClip, VideoFileClip\n",
    "from moviepy.editor import ipython_display\n",
    "import cv2\n",
    "import numpy as np\n",
    "import os"
   ]
  },
  {
   "cell_type": "code",
   "execution_count": 2,
   "metadata": {},
   "outputs": [
    {
     "name": "stderr",
     "output_type": "stream",
     "text": [
      "t:   0%|          | 0/404 [00:00<?, ?it/s, now=None]Moviepy - Building video /home/aiffel-dj2/aiffel/video_sticker_app/images/mvpyresult.mp4.\n",
      "MoviePy - Writing audio in mvpyresultTEMP_MPY_wvf_snd.mp3\n",
      "MoviePy - Done.\n",
      "Moviepy - Writing video /home/aiffel-dj2/aiffel/video_sticker_app/images/mvpyresult.mp4\n",
      "\n",
      "Moviepy - Done !\n",
      "Moviepy - video ready /home/aiffel-dj2/aiffel/video_sticker_app/images/mvpyresult.mp4\n"
     ]
    }
   ],
   "source": [
    "# 읽기\n",
    "video_path = os.getenv('HOME')+'/aiffel/video_sticker_app/images/video2.mp4'\n",
    "clip = VideoFileClip(video_path) # moviepy로 읽어오는 과정 \n",
    "clip = clip.resize(width=640) # 크기 설정 \n",
    "clip.ipython_display(fps=30, loop=True, autoplay=True, rd_kwargs=dict(logger=None))\n",
    "# video의 여러가지 설정들 \n",
    "\n",
    "# 쓰기\n",
    "result_video_path = os.getenv('HOME')+'/aiffel/video_sticker_app/images/mvpyresult.mp4'\n",
    "clip.write_videofile(result_video_path)"
   ]
  },
  {
   "cell_type": "markdown",
   "metadata": {},
   "source": [
    "## moviepy "
   ]
  },
  {
   "cell_type": "code",
   "execution_count": 4,
   "metadata": {},
   "outputs": [
    {
     "name": "stderr",
     "output_type": "stream",
     "text": [
      "t:  12%|█▏        | 48/403 [00:00<00:00, 438.82it/s, now=None]Moviepy - Building video /home/aiffel-dj2/aiffel/video_sticker_app/images/mvpyresult.mp4.\n",
      "Moviepy - Writing video /home/aiffel-dj2/aiffel/video_sticker_app/images/mvpyresult.mp4\n",
      "\n",
      "Moviepy - Done !\n",
      "Moviepy - video ready /home/aiffel-dj2/aiffel/video_sticker_app/images/mvpyresult.mp4\n",
      "[INFO] moviepy time : 3.05ms\n"
     ]
    }
   ],
   "source": [
    "# CASE 1 : moviepy 사용\n",
    "start = cv2.getTickCount()\n",
    "clip = VideoFileClip(video_path)\n",
    "clip = clip.resize(width=640)\n",
    "\n",
    "vlen = int(clip.duration*clip.fps)\n",
    "video_container = np.zeros((vlen, clip.size[1], clip.size[0], 3), dtype=np.uint8)\n",
    "\n",
    "for i in range(vlen):\n",
    "    img = clip.get_frame(i/clip.fps)\n",
    "    video_container[i] = (img * 0.5).astype(np.uint8) # 밝기?  \n",
    "\n",
    "# 새 clip 만들기\n",
    "dur = vlen / clip.fps\n",
    "outclip = VideoClip(lambda t: video_container[int(round(t*clip.fps))], duration=dur)\n",
    "# 쓰기\n",
    "mvpy_video_path = os.getenv('HOME')+'/aiffel/video_sticker_app/images/mvpyresult.mp4'\n",
    "outclip.write_videofile(mvpy_video_path, fps=30)\n",
    "\n",
    "time = (cv2.getTickCount() - start) / cv2.getTickFrequency()\n",
    "print (f'[INFO] moviepy time : {time:.2f}ms')"
   ]
  },
  {
   "cell_type": "markdown",
   "metadata": {},
   "source": [
    "## OpenCV "
   ]
  },
  {
   "cell_type": "code",
   "execution_count": 5,
   "metadata": {},
   "outputs": [
    {
     "name": "stdout",
     "output_type": "stream",
     "text": [
      "[INFO] cv time : 1.63ms\n"
     ]
    }
   ],
   "source": [
    "# CASE 2 : OpenCV 사용\n",
    "start = cv2.getTickCount()\n",
    "vc = cv2.VideoCapture(video_path)\n",
    "\n",
    "cv_video_path = os.getenv('HOME')+'/aiffel/video_sticker_app/images/cvresult.mp4'\n",
    "fourcc = cv2.VideoWriter_fourcc(*'mp4v')\n",
    "vw = cv2.VideoWriter(cv_video_path, fourcc, 30, (640,360))\n",
    "\n",
    "vlen = int(vc.get(cv2.CAP_PROP_FRAME_COUNT))\n",
    "\n",
    "for i in range(vlen):\n",
    "    ret, img = vc.read()\n",
    "    if ret == False: break\n",
    "    \n",
    "    img_result = cv2.resize(img, (640, 360)) * 0.5\n",
    "    vw.write(img_result.astype(np.uint8))\n",
    "    \n",
    "time = (cv2.getTickCount() - start) / cv2.getTickFrequency()\n",
    "print (f'[INFO] cv time : {time:.2f}ms')"
   ]
  },
  {
   "cell_type": "markdown",
   "metadata": {},
   "source": [
    "## moviepy 를 이용할 때의 장단점을 분석해 봅시다.\n",
    "\n",
    "- 단점은 두배정도 느리다 때문에 실시간 비디오나 대용량 비디오 처리에는 적합하지 않다. \n",
    "- 장점은 numpy를 사용할 수 있는 장점이 있고 그래서 다양한 효과를 추가 할 수 있습니다. \n"
   ]
  },
  {
   "cell_type": "markdown",
   "metadata": {},
   "source": [
    "# 어디까지 만들고 싶은지 정의하기 "
   ]
  },
  {
   "cell_type": "markdown",
   "metadata": {},
   "source": [
    "## 스티커앱을 실행하고 카메라를 고정하고 서서히 멀어져봅니다. 혹은 아주 가까이 다가가 봅니다. 얼굴을 찾지 못하는 거리를 기록해주세요\n",
    "\n",
    "- 거리는 팔 길이 이상 한걸음 반정도 갔음에도 인식이 잘 되는 편이였다. \n",
    "- 가까이 갔을땐 턱이 짤리는 경우 인식을 하지 못하였다. "
   ]
  },
  {
   "cell_type": "markdown",
   "metadata": {},
   "source": [
    "## 다시 자리로 돌아온 후 고개를 상하좌우로 움직여주세요. yaw, pitch, roll 각도의 개념을 직접 실험해 보고 각각 몇 도까지 정상적으로 스티커앱이 동작하는지 기록해주세요.\n",
    "\n",
    "- yaw : 짤리지 않는 이상 잘 되었다. . \n",
    "- picth : X축 기준 회전(좌우)는 왼쪽눈이 보이면 머리위가 아니라 이마 중심으로 공중에 떠있는 왕관을 볼수 있었다. 45도 이상 거의 90 전까지는 그래도 인식은 하는 편이라고 봣다. \n",
    "- roll : 제일 민감 턱과 눈썹 하나라도 보이지 않으면 안됬다. "
   ]
  },
  {
   "cell_type": "markdown",
   "metadata": {},
   "source": [
    "## 만들고 싶은 스티커앱의 스펙(허용 거리, 허용 인원 수, 허용 각도, 안정성)을 정해주세요.\n",
    "\n",
    "허용거리\n",
    "\n",
    "- 허용 거리 손과 셀카봉길이를 합친 길이 만큼 떨어져도 인식이 잘되는 정도 \n",
    "- 얼굴 부위가 짤리는 수준으로 가까우면 인식이 되지 않는 정도 \n",
    "\n",
    "허용 인원수\n",
    "- 4~5인 까지 얼굴이 한 화면에 담기 어렵고 겹칠 가능성이 있기 때문에 5인 정도 인식 하는 수준\n",
    "\n",
    "허용 각도 \n",
    "- 핸드폰을 직접 보기 힘든 각도까지 즉 90도 전 80도 정도 까지 인식 하는 수준 \n",
    "\n",
    "안정성 \n",
    "- 위 조건들을 만족하면서 200장당 1번의 에러 정도 "
   ]
  },
  {
   "cell_type": "markdown",
   "metadata": {},
   "source": [
    "# 스티커 Out Bound 예외처리 하기 "
   ]
  },
  {
   "cell_type": "markdown",
   "metadata": {},
   "source": [
    "## 지금까지 만든 스티커앱을 이용해서 예외 상황을 찾아주세요. 특히 서서히 영상에서 좌우 경계 밖으로 나가며 코드의 행동을 확인해 보세요.\n",
    "\n",
    "```\n",
    "cv2.error: OpenCV(4.5.1) /tmp/pip-req-build-hj027r8z/opencv/modules/core/src/arithm.cpp:666: error: (-209:Sizes of input arguments do not match) The operation is neither 'array op array' (where arrays have the same size and the same number of channels), nor 'array op scalar', nor 'scalar op array' in function 'arithm_op'\n",
    "\n",
    "```\n",
    "array 범위를 벗어났다는 오류 코드가 나오면서 작동이 정지 된다. "
   ]
  },
  {
   "cell_type": "markdown",
   "metadata": {},
   "source": [
    "## 문제가 어디에서 발생하는지 코드에서 확인합니다.\n",
    "- newaddsticker.py의 img2sticker 메소드에서 아래 부분에 \n",
    "``` \n",
    "   if refined_y < 0:\n",
    "        img_sticker = img_sticker[-refined_y:]\n",
    "        refined_y = 0\n",
    "```\n",
    "\n",
    "이 부분에 추가로 조건문을 더 달아 줘야 한다. "
   ]
  },
  {
   "cell_type": "markdown",
   "metadata": {},
   "source": [
    "## Out bound 오류(경계 밖으로 대상이 나가서 생기는 오류)를 해결해 주세요.\n",
    "\n",
    "- 위 조건문을 아래와 같이 수정해 준다. \n",
    "\n",
    "```\n",
    "    if refined_x < 0:\n",
    "        img_sticker = img_sticker[:, -refined_x:]\n",
    "        refined_x = 0\n",
    "    elif refined_x + img_sticker.shape[1] >= img_orig.shape[1]:\n",
    "        img_sticker = img_sticker[:, :-(img_sticker.shape[1]+refined_x-img_orig.shape[1])]\n",
    "```\n"
   ]
  },
  {
   "cell_type": "markdown",
   "metadata": {},
   "source": [
    "## 다른 예외는 어떤 것들이 있는지 정의해 주세요. 어떤 것이 문제가 되는지 스스로 정해봅시다.\n",
    "\n",
    "아래 하단으로 얼굴을 찍을 시 머리 밖 공중에 왕관이 씌워져 있다. "
   ]
  },
  {
   "cell_type": "markdown",
   "metadata": {},
   "source": [
    "# 칼만 필터 적용하기 \n",
    "## 카메라 앞에서 가만히 있을 때 스티커의 움직임을 관찰해 주세요. 어떤 문제가 발생하나요?\n",
    "\n",
    "- 가만히 있어도 스티커의 크리가 일정하게 유지되지 않고, 떨리는 것처럼 보이는 현상이 발생합니다.\n",
    "\n",
    "## 이론 강의에서 배운 칼만 필터를 적용해서 스티커 움직임을 안정화 시켜주세요. \n",
    "- 칼만필터를 적용 후에는 왕관이 생기지 않았다 무슨 문제 인지 파악하기 어렵다. \n",
    "- [webcam_sticker.py](https://github.com/moon-jaeyun/aimoons/blob/master/webcam_sticker.py)"
   ]
  },
  {
   "cell_type": "markdown",
   "metadata": {},
   "source": []
  }
 ],
 "metadata": {
  "kernelspec": {
   "display_name": "aiffel",
   "language": "python",
   "name": "aiffel"
  },
  "language_info": {
   "codemirror_mode": {
    "name": "ipython",
    "version": 3
   },
   "file_extension": ".py",
   "mimetype": "text/x-python",
   "name": "python",
   "nbconvert_exporter": "python",
   "pygments_lexer": "ipython3",
   "version": "3.7.9"
  },
  "toc": {
   "base_numbering": 1,
   "nav_menu": {},
   "number_sections": true,
   "sideBar": true,
   "skip_h1_title": false,
   "title_cell": "Table of Contents",
   "title_sidebar": "Contents",
   "toc_cell": false,
   "toc_position": {},
   "toc_section_display": true,
   "toc_window_display": false
  }
 },
 "nbformat": 4,
 "nbformat_minor": 2
}
